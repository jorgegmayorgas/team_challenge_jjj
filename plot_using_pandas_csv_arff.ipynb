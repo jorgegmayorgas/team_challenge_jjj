{
  "cells": [
    {
      "cell_type": "code",
      "execution_count": null,
      "metadata": {
        "collapsed": false
      },
      "outputs": [],
      "source": [
        "%matplotlib inline"
      ]
    },
    {
      "cell_type": "markdown",
      "metadata": {},
      "source": [
        "\n# Using Pandas, CSV and ARFF files\n\nIn this example we will show you how to use Pandas, CSV and ARFF in PyMFE.\n"
      ]
    },
    {
      "cell_type": "code",
      "execution_count": null,
      "metadata": {
        "collapsed": false
      },
      "outputs": [],
      "source": [
        "# Necessary imports\nimport pandas as pd\nimport numpy as np\nfrom numpy import genfromtxt\nfrom pymfe.mfe import MFE\nimport csv\nimport arff"
      ]
    },
    {
      "cell_type": "markdown",
      "metadata": {},
      "source": [
        "## Pandas\nGenerating synthetic dataset\n\n"
      ]
    },
    {
      "cell_type": "code",
      "execution_count": null,
      "metadata": {
        "collapsed": false
      },
      "outputs": [],
      "source": [
        "np.random.seed(42)\n\nsample_size = 150\nnumeric = pd.DataFrame({\n    'num1': np.random.randint(0, 100, size=sample_size),\n    'num2': np.random.randint(0, 100, size=sample_size)\n})\ncategoric = pd.DataFrame({\n    'cat1': np.repeat(('cat1-1', 'cat1-2'), sample_size/2),\n    'cat2': np.repeat(('cat2-1', 'cat2-2', 'cat2-3'), sample_size/3)\n})\nX = numeric.join(categoric)\ny = pd.Series(np.repeat(['C1', 'C2'], sample_size/2))"
      ]
    },
    {
      "cell_type": "markdown",
      "metadata": {},
      "source": [
        "Exploring characteristics of the data\n\n"
      ]
    },
    {
      "cell_type": "code",
      "execution_count": null,
      "metadata": {
        "collapsed": false
      },
      "outputs": [],
      "source": [
        "print(\"X shape --> \", X.shape)\nprint(\"y shape --> \", y.shape)\nprint(\"classes --> \", np.unique(y.values))\nprint(\"X dtypes --> \\n\", X.dtypes)\nprint(\"y dtypes --> \", y.dtypes)"
      ]
    },
    {
      "cell_type": "markdown",
      "metadata": {},
      "source": [
        "For extracting meta-features, you should send ``X`` and ``y`` as a sequence,\nlike numpy array or Python list.\nIt is easy to make this using pandas:\n\n"
      ]
    },
    {
      "cell_type": "code",
      "execution_count": null,
      "metadata": {
        "collapsed": false
      },
      "outputs": [],
      "source": [
        "mfe = MFE(\n    groups=[\"general\", \"statistical\", \"info-theory\"],\n    random_state=42\n)\nmfe.fit(X.values, y.values)\nft = mfe.extract(cat_cols='auto', suppress_warnings=True)\nprint(\"\\n\".join(\"{:50} {:30}\".format(x, y) for x, y in zip(ft[0], ft[1])))"
      ]
    },
    {
      "cell_type": "markdown",
      "metadata": {},
      "source": [
        "## Pandas CSV\nGetting data from CSV format\n\n"
      ]
    },
    {
      "cell_type": "code",
      "execution_count": null,
      "metadata": {
        "collapsed": false
      },
      "outputs": [],
      "source": [
        "df = pd.read_csv('../data/data.csv')\nX, y = df.drop('class', axis=1), df['class']"
      ]
    },
    {
      "cell_type": "markdown",
      "metadata": {},
      "source": [
        "Exploring characteristics of the data\n\n"
      ]
    },
    {
      "cell_type": "code",
      "execution_count": null,
      "metadata": {
        "collapsed": false
      },
      "outputs": [],
      "source": [
        "print(\"X shape --> \", X.shape)\nprint(\"y shape --> \", y.shape)\nprint(\"classes --> \", np.unique(y))\nprint(\"X dtypes --> \\n\", X.dtypes)\nprint(\"y dtypes --> \", y.dtypes)"
      ]
    },
    {
      "cell_type": "markdown",
      "metadata": {},
      "source": [
        "For extracting meta-features, you should send ``X`` and ``y`` as a sequence,\nlike numpy array or Python list.\nIt is easy to make this using pandas:\n\n"
      ]
    },
    {
      "cell_type": "code",
      "execution_count": null,
      "metadata": {
        "collapsed": false
      },
      "outputs": [],
      "source": [
        "mfe = MFE(\n    groups=[\"general\", \"statistical\", \"info-theory\"],\n    random_state=42\n)\nmfe.fit(X.values, y.values)\nft = mfe.extract(cat_cols='auto', suppress_warnings=True)\nprint(\"\\n\".join(\"{:50} {:30}\".format(x, y) for x, y in zip(ft[0], ft[1])))"
      ]
    },
    {
      "cell_type": "markdown",
      "metadata": {},
      "source": [
        "## ARFF\nGetting data from ARFF format:\n\n"
      ]
    },
    {
      "cell_type": "code",
      "execution_count": null,
      "metadata": {
        "collapsed": false
      },
      "outputs": [],
      "source": [
        "data = arff.load(open('../data/data.arff', 'r'))['data']\nX = [i[:4] for i in data]\ny = [i[-1] for i in data]"
      ]
    },
    {
      "cell_type": "markdown",
      "metadata": {},
      "source": [
        "Exploring characteristics of the data\n\n"
      ]
    },
    {
      "cell_type": "code",
      "execution_count": null,
      "metadata": {
        "collapsed": false
      },
      "outputs": [],
      "source": [
        "print(\"X shape --> \", len(X))\nprint(\"y shape --> \", len(y))\nprint(\"classes --> \", np.unique(y))\nprint(\"X dtypes --> \", type(X))\nprint(\"y dtypes --> \", type(y))"
      ]
    },
    {
      "cell_type": "markdown",
      "metadata": {},
      "source": [
        "For extracting meta-features, you should send ``X`` and ``y`` as a sequence,\nlike numpy array or Python list.\nYou can do this directly:\n\n"
      ]
    },
    {
      "cell_type": "code",
      "execution_count": null,
      "metadata": {
        "collapsed": false
      },
      "outputs": [],
      "source": [
        "mfe = MFE(\n    groups=[\"general\", \"statistical\", \"info-theory\"],\n    random_state=42\n)\nmfe.fit(X, y)\nft = mfe.extract(cat_cols='auto', suppress_warnings=True)\nprint(\"\\n\".join(\"{:50} {:30}\".format(x, y) for x, y in zip(ft[0], ft[1])))"
      ]
    },
    {
      "cell_type": "markdown",
      "metadata": {},
      "source": [
        "As a final example, we do not use the automatic detection of feature type\nhere. We use the ids provided by the liac-arff package.\n\n"
      ]
    },
    {
      "cell_type": "code",
      "execution_count": null,
      "metadata": {
        "collapsed": false
      },
      "outputs": [],
      "source": [
        "classid = 4\ndata = arff.load(open('../data/data.arff', 'r'), encode_nominal=True)\ncat_cols = [n for n, i in enumerate(data['attributes'][:classid])\n            if isinstance(i[1], list)]\ndata = np.array(data['data'])\nX = data[:, :classid]\ny = data[:, classid]"
      ]
    },
    {
      "cell_type": "markdown",
      "metadata": {},
      "source": [
        "Exploring characteristics of the data\n\n"
      ]
    },
    {
      "cell_type": "code",
      "execution_count": null,
      "metadata": {
        "collapsed": false
      },
      "outputs": [],
      "source": [
        "print(\"X shape --> \", len(X))\nprint(\"y shape --> \", len(y))\nprint(\"classes --> \", np.unique(y))\nprint(\"X dtypes --> \", type(X))\nprint(\"y dtypes --> \", type(y))"
      ]
    },
    {
      "cell_type": "markdown",
      "metadata": {},
      "source": [
        "For extracting meta-features, you should send ``X`` and ``y`` as a sequence,\nlike numpy array or python list.\n\n"
      ]
    },
    {
      "cell_type": "code",
      "execution_count": null,
      "metadata": {
        "collapsed": false
      },
      "outputs": [],
      "source": [
        "mfe = MFE(\n    groups=[\"general\", \"statistical\", \"info-theory\"],\n    random_state=42\n)\nmfe.fit(X, y, cat_cols=cat_cols)\nft = mfe.extract(suppress_warnings=True)\nprint(\"\\n\".join(\"{:50} {:30}\".format(x, y) for x, y in zip(ft[0], ft[1])))"
      ]
    }
  ],
  "metadata": {
    "kernelspec": {
      "display_name": "Python 3",
      "language": "python",
      "name": "python3"
    },
    "language_info": {
      "codemirror_mode": {
        "name": "ipython",
        "version": 3
      },
      "file_extension": ".py",
      "mimetype": "text/x-python",
      "name": "python",
      "nbconvert_exporter": "python",
      "pygments_lexer": "ipython3",
      "version": "3.7.9"
    }
  },
  "nbformat": 4,
  "nbformat_minor": 0
}